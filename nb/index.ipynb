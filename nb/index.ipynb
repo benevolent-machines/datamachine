{
  "nbformat": 4,
  "nbformat_minor": 0,
  "metadata": {
    "colab": {
      "provenance": [],
      "include_colab_link": true
    },
    "kernelspec": {
      "name": "python3",
      "display_name": "Python 3"
    },
    "language_info": {
      "name": "python"
    }
  },
  "cells": [
    {
      "cell_type": "markdown",
      "metadata": {
        "id": "view-in-github",
        "colab_type": "text"
      },
      "source": [
        "<a href=\"https://colab.research.google.com/github/benevolent-machines/datamachine/blob/master/nb/index.ipynb\" target=\"_parent\"><img src=\"https://colab.research.google.com/assets/colab-badge.svg\" alt=\"Open In Colab\"/></a>"
      ]
    },
    {
      "cell_type": "code",
      "execution_count": null,
      "metadata": {
        "id": "xT_xT7FRtZP3"
      },
      "outputs": [],
      "source": [
        "INDEX = 'master'\n",
        "LIBRARIES = {\n",
        "    'benevolent': {\n",
        "        'path': 'https://github.com/benevolent-machines/datamachine/blob/master/nb/lib_bmo.ipynb'\n",
        "    },\n",
        "}"
      ]
    }
  ]
}