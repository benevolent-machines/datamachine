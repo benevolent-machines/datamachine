{
  "nbformat": 4,
  "nbformat_minor": 0,
  "metadata": {
    "colab": {
      "provenance": [],
      "include_colab_link": true
    },
    "kernelspec": {
      "name": "python3",
      "display_name": "Python 3"
    },
    "language_info": {
      "name": "python"
    }
  },
  "cells": [
    {
      "cell_type": "markdown",
      "metadata": {
        "id": "view-in-github",
        "colab_type": "text"
      },
      "source": [
        "<a href=\"https://colab.research.google.com/github/benevolent-machines/datamachine/blob/master/nb/lib_bmo.ipynb\" target=\"_parent\"><img src=\"https://colab.research.google.com/assets/colab-badge.svg\" alt=\"Open In Colab\"/></a>"
      ]
    },
    {
      "cell_type": "code",
      "source": [
        "LIBRARY = 'benevolent'\n",
        "NOTEBOOKS = {\n",
        "    'dpanalytics': {\n",
        "        'desc': 'DonorPerfect Analytics',\n",
        "        'path': 'https://github.com/benevolent-machines/datamachine/blob/master/nb/mod_dpa.ipynb',\n",
        "        'code': 'dpa',\n",
        "        \"kind\": \"module\",\n",
        "    },\n",
        "    'npanalytics': {\n",
        "        'desc': 'Nonprofit Public Analytics',\n",
        "        'path': 'https://github.com/benevolent-machines/datamachine/blob/master/nb/mod_npa.ipynb',\n",
        "        'code': 'npa',\n",
        "        \"kind\": \"module\",\n",
        "    },\n",
        "}\n"
      ],
      "metadata": {
        "id": "uDV0cHBXefLI"
      },
      "execution_count": null,
      "outputs": []
    }
  ]
}